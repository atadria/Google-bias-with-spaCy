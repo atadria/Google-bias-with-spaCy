{
 "cells": [
  {
   "cell_type": "code",
   "execution_count": 1,
   "id": "f701604a",
   "metadata": {
    "scrolled": true
   },
   "outputs": [],
   "source": [
    "# setup for google colab\n",
    "\n",
    "# !pip install spacy==3.1.4\n",
    "# !python -m spacy download en_core_web_md\n",
    "\n",
    "# restart runtime before running notebook  "
   ]
  },
  {
   "cell_type": "code",
   "execution_count": 2,
   "id": "6a6de9fe",
   "metadata": {},
   "outputs": [],
   "source": [
    "import itertools\n",
    "from collections import Counter\n",
    "\n",
    "import spacy\n",
    "from spacy import displacy\n",
    "import pandas as pd\n",
    "import matplotlib.pyplot as plt\n",
    "import numpy as np"
   ]
  },
  {
   "cell_type": "markdown",
   "id": "aa4720b8",
   "metadata": {},
   "source": [
    "# Dependency parsing with SpaCy"
   ]
  },
  {
   "cell_type": "markdown",
   "id": "d3c89e7a",
   "metadata": {},
   "source": [
    "### Load model"
   ]
  },
  {
   "cell_type": "code",
   "execution_count": 3,
   "id": "c9b1a302",
   "metadata": {},
   "outputs": [],
   "source": [
    "nlp = spacy.load(\"en_core_web_md\")"
   ]
  },
  {
   "cell_type": "markdown",
   "id": "c83b1455",
   "metadata": {},
   "source": [
    "### Load and filter data"
   ]
  },
  {
   "cell_type": "code",
   "execution_count": 4,
   "id": "67959a41",
   "metadata": {},
   "outputs": [
    {
     "data": {
      "text/html": [
       "<div>\n",
       "<style scoped>\n",
       "    .dataframe tbody tr th:only-of-type {\n",
       "        vertical-align: middle;\n",
       "    }\n",
       "\n",
       "    .dataframe tbody tr th {\n",
       "        vertical-align: top;\n",
       "    }\n",
       "\n",
       "    .dataframe thead th {\n",
       "        text-align: right;\n",
       "    }\n",
       "</style>\n",
       "<table border=\"1\" class=\"dataframe\">\n",
       "  <thead>\n",
       "    <tr style=\"text-align: right;\">\n",
       "      <th></th>\n",
       "      <th>title</th>\n",
       "      <th>link</th>\n",
       "      <th>baseline</th>\n",
       "      <th>query</th>\n",
       "      <th>engine</th>\n",
       "    </tr>\n",
       "  </thead>\n",
       "  <tbody>\n",
       "    <tr>\n",
       "      <th>46</th>\n",
       "      <td>Portrait of a happy family. Portrait of a happ...</td>\n",
       "      <td>https://cdn.w600.comps.canstockphoto.com/portr...</td>\n",
       "      <td>46</td>\n",
       "      <td>happy+white+woman</td>\n",
       "      <td>google</td>\n",
       "    </tr>\n",
       "    <tr>\n",
       "      <th>18</th>\n",
       "      <td>A happy white woman - a missionary - holding a...</td>\n",
       "      <td>https://c8.alamy.com/comp/KM16K8/a-happy-white...</td>\n",
       "      <td>18</td>\n",
       "      <td>happy+white+woman</td>\n",
       "      <td>google</td>\n",
       "    </tr>\n",
       "    <tr>\n",
       "      <th>200</th>\n",
       "      <td>Clipart of a Happy Blond White Woman Measuring...</td>\n",
       "      <td>http://images.clipartof.com/Clipart-Of-A-Happy...</td>\n",
       "      <td>122</td>\n",
       "      <td>happy+white+woman</td>\n",
       "      <td>bing</td>\n",
       "    </tr>\n",
       "    <tr>\n",
       "      <th>113</th>\n",
       "      <td>Happy Young Woman Standing Isolated On White B...</td>\n",
       "      <td>http://image.shutterstock.com/z/stock-photo-ha...</td>\n",
       "      <td>35</td>\n",
       "      <td>happy+white+woman</td>\n",
       "      <td>bing</td>\n",
       "    </tr>\n",
       "    <tr>\n",
       "      <th>109</th>\n",
       "      <td>Happy Young Woman In White Dress Walking In Sp...</td>\n",
       "      <td>https://thumbs.dreamstime.com/z/happy-young-wo...</td>\n",
       "      <td>31</td>\n",
       "      <td>happy+white+woman</td>\n",
       "      <td>bing</td>\n",
       "    </tr>\n",
       "    <tr>\n",
       "      <th>95</th>\n",
       "      <td>Portrait Of The Beautiful Happy Woman In Glass...</td>\n",
       "      <td>http://thumbs.dreamstime.com/z/portrait-beauti...</td>\n",
       "      <td>17</td>\n",
       "      <td>happy+white+woman</td>\n",
       "      <td>bing</td>\n",
       "    </tr>\n",
       "    <tr>\n",
       "      <th>65</th>\n",
       "      <td>Retarded High Resolution Stock Photography and...</td>\n",
       "      <td>https://c8.alamy.com/comp/T03ENW/hakendover-fl...</td>\n",
       "      <td>65</td>\n",
       "      <td>happy+white+woman</td>\n",
       "      <td>google</td>\n",
       "    </tr>\n",
       "    <tr>\n",
       "      <th>203</th>\n",
       "      <td>Happy Black And White GIF - Find &amp; Share on GIPHY</td>\n",
       "      <td>https://media.giphy.com/media/3ABlAA8hWVBMk/gi...</td>\n",
       "      <td>125</td>\n",
       "      <td>happy+white+woman</td>\n",
       "      <td>bing</td>\n",
       "    </tr>\n",
       "    <tr>\n",
       "      <th>32</th>\n",
       "      <td>A White Woman Called the Police on an 8-Year-O...</td>\n",
       "      <td>https://assets.teenvogue.com/photos/5b3001de93...</td>\n",
       "      <td>32</td>\n",
       "      <td>happy+white+woman</td>\n",
       "      <td>google</td>\n",
       "    </tr>\n",
       "    <tr>\n",
       "      <th>55</th>\n",
       "      <td>Szélsőközép - Photos | Facebook</td>\n",
       "      <td>https://lookaside.fbsbx.com/lookaside/crawler/...</td>\n",
       "      <td>55</td>\n",
       "      <td>happy+white+woman</td>\n",
       "      <td>google</td>\n",
       "    </tr>\n",
       "  </tbody>\n",
       "</table>\n",
       "</div>"
      ],
      "text/plain": [
       "                                                 title  \\\n",
       "46   Portrait of a happy family. Portrait of a happ...   \n",
       "18   A happy white woman - a missionary - holding a...   \n",
       "200  Clipart of a Happy Blond White Woman Measuring...   \n",
       "113  Happy Young Woman Standing Isolated On White B...   \n",
       "109  Happy Young Woman In White Dress Walking In Sp...   \n",
       "95   Portrait Of The Beautiful Happy Woman In Glass...   \n",
       "65   Retarded High Resolution Stock Photography and...   \n",
       "203  Happy Black And White GIF - Find & Share on GIPHY   \n",
       "32   A White Woman Called the Police on an 8-Year-O...   \n",
       "55                     Szélsőközép - Photos | Facebook   \n",
       "\n",
       "                                                  link  baseline  \\\n",
       "46   https://cdn.w600.comps.canstockphoto.com/portr...        46   \n",
       "18   https://c8.alamy.com/comp/KM16K8/a-happy-white...        18   \n",
       "200  http://images.clipartof.com/Clipart-Of-A-Happy...       122   \n",
       "113  http://image.shutterstock.com/z/stock-photo-ha...        35   \n",
       "109  https://thumbs.dreamstime.com/z/happy-young-wo...        31   \n",
       "95   http://thumbs.dreamstime.com/z/portrait-beauti...        17   \n",
       "65   https://c8.alamy.com/comp/T03ENW/hakendover-fl...        65   \n",
       "203  https://media.giphy.com/media/3ABlAA8hWVBMk/gi...       125   \n",
       "32   https://assets.teenvogue.com/photos/5b3001de93...        32   \n",
       "55   https://lookaside.fbsbx.com/lookaside/crawler/...        55   \n",
       "\n",
       "                 query  engine  \n",
       "46   happy+white+woman  google  \n",
       "18   happy+white+woman  google  \n",
       "200  happy+white+woman    bing  \n",
       "113  happy+white+woman    bing  \n",
       "109  happy+white+woman    bing  \n",
       "95   happy+white+woman    bing  \n",
       "65   happy+white+woman  google  \n",
       "203  happy+white+woman    bing  \n",
       "32   happy+white+woman  google  \n",
       "55   happy+white+woman  google  "
      ]
     },
     "execution_count": 4,
     "metadata": {},
     "output_type": "execute_result"
    }
   ],
   "source": [
    "df = pd.read_csv('data/dataset.csv')\n",
    "dataset = df[df['query'] == 'happy+white+woman']\n",
    "dataset.sample(10)"
   ]
  },
  {
   "cell_type": "code",
   "execution_count": 5,
   "id": "d4788290",
   "metadata": {},
   "outputs": [],
   "source": [
    "google_dataset = dataset[dataset['engine']=='google'].copy()\n",
    "bing_dataset = dataset[dataset['engine']=='bing'].copy()"
   ]
  },
  {
   "cell_type": "code",
   "execution_count": 6,
   "id": "74ade79e",
   "metadata": {},
   "outputs": [
    {
     "name": "stdout",
     "output_type": "stream",
     "text": [
      "Google dataset size:  78\n",
      "Bing dataset size:  134\n"
     ]
    }
   ],
   "source": [
    "print(\"Google dataset size: \", google_dataset.shape[0])\n",
    "print(\"Bing dataset size: \", bing_dataset.shape[0])"
   ]
  },
  {
   "cell_type": "code",
   "execution_count": 7,
   "id": "2ccaa88a",
   "metadata": {},
   "outputs": [
    {
     "name": "stdout",
     "output_type": "stream",
     "text": [
      "Bing dataset size:  78\n"
     ]
    }
   ],
   "source": [
    "bing_dataset = bing_dataset[:78]\n",
    "print(\"Bing dataset size: \", bing_dataset.shape[0])"
   ]
  },
  {
   "cell_type": "markdown",
   "id": "04a9f11f",
   "metadata": {},
   "source": [
    "## Visualize dependencies \n",
    "https://spacy.io/usage/visualizers#dep"
   ]
  },
  {
   "cell_type": "code",
   "execution_count": 8,
   "id": "35dbd050",
   "metadata": {},
   "outputs": [
    {
     "data": {
      "text/html": [
       "<span class=\"tex2jax_ignore\"><svg xmlns=\"http://www.w3.org/2000/svg\" xmlns:xlink=\"http://www.w3.org/1999/xlink\" xml:lang=\"en\" id=\"5e5257a8fe5c4947b8b6985e975f0a9f-0\" class=\"displacy\" width=\"1040\" height=\"272.0\" direction=\"ltr\" style=\"max-width: none; height: 272.0px; color: #000000; background: #ffffff; font-family: Arial; direction: ltr\">\n",
       "<text class=\"displacy-token\" fill=\"currentColor\" text-anchor=\"middle\" y=\"182.0\">\n",
       "    <tspan class=\"displacy-word\" fill=\"currentColor\" x=\"50\">&quot;</tspan>\n",
       "    <tspan class=\"displacy-tag\" dy=\"2em\" fill=\"currentColor\" x=\"50\">PUNCT</tspan>\n",
       "</text>\n",
       "\n",
       "<text class=\"displacy-token\" fill=\"currentColor\" text-anchor=\"middle\" y=\"182.0\">\n",
       "    <tspan class=\"displacy-word\" fill=\"currentColor\" x=\"140\">Happy</tspan>\n",
       "    <tspan class=\"displacy-tag\" dy=\"2em\" fill=\"currentColor\" x=\"140\">PROPN</tspan>\n",
       "</text>\n",
       "\n",
       "<text class=\"displacy-token\" fill=\"currentColor\" text-anchor=\"middle\" y=\"182.0\">\n",
       "    <tspan class=\"displacy-word\" fill=\"currentColor\" x=\"230\">White</tspan>\n",
       "    <tspan class=\"displacy-tag\" dy=\"2em\" fill=\"currentColor\" x=\"230\">PROPN</tspan>\n",
       "</text>\n",
       "\n",
       "<text class=\"displacy-token\" fill=\"currentColor\" text-anchor=\"middle\" y=\"182.0\">\n",
       "    <tspan class=\"displacy-word\" fill=\"currentColor\" x=\"320\">Woman</tspan>\n",
       "    <tspan class=\"displacy-tag\" dy=\"2em\" fill=\"currentColor\" x=\"320\">PROPN</tspan>\n",
       "</text>\n",
       "\n",
       "<text class=\"displacy-token\" fill=\"currentColor\" text-anchor=\"middle\" y=\"182.0\">\n",
       "    <tspan class=\"displacy-word\" fill=\"currentColor\" x=\"410\">Pregnant,</tspan>\n",
       "    <tspan class=\"displacy-tag\" dy=\"2em\" fill=\"currentColor\" x=\"410\">PROPN</tspan>\n",
       "</text>\n",
       "\n",
       "<text class=\"displacy-token\" fill=\"currentColor\" text-anchor=\"middle\" y=\"182.0\">\n",
       "    <tspan class=\"displacy-word\" fill=\"currentColor\" x=\"500\">Black</tspan>\n",
       "    <tspan class=\"displacy-tag\" dy=\"2em\" fill=\"currentColor\" x=\"500\">PROPN</tspan>\n",
       "</text>\n",
       "\n",
       "<text class=\"displacy-token\" fill=\"currentColor\" text-anchor=\"middle\" y=\"182.0\">\n",
       "    <tspan class=\"displacy-word\" fill=\"currentColor\" x=\"590\">Man.</tspan>\n",
       "    <tspan class=\"displacy-tag\" dy=\"2em\" fill=\"currentColor\" x=\"590\">PROPN</tspan>\n",
       "</text>\n",
       "\n",
       "<text class=\"displacy-token\" fill=\"currentColor\" text-anchor=\"middle\" y=\"182.0\">\n",
       "    <tspan class=\"displacy-word\" fill=\"currentColor\" x=\"680\">Stock</tspan>\n",
       "    <tspan class=\"displacy-tag\" dy=\"2em\" fill=\"currentColor\" x=\"680\">PROPN</tspan>\n",
       "</text>\n",
       "\n",
       "<text class=\"displacy-token\" fill=\"currentColor\" text-anchor=\"middle\" y=\"182.0\">\n",
       "    <tspan class=\"displacy-word\" fill=\"currentColor\" x=\"770\">Photo -</tspan>\n",
       "    <tspan class=\"displacy-tag\" dy=\"2em\" fill=\"currentColor\" x=\"770\">PROPN</tspan>\n",
       "</text>\n",
       "\n",
       "<text class=\"displacy-token\" fill=\"currentColor\" text-anchor=\"middle\" y=\"182.0\">\n",
       "    <tspan class=\"displacy-word\" fill=\"currentColor\" x=\"860\">Image</tspan>\n",
       "    <tspan class=\"displacy-tag\" dy=\"2em\" fill=\"currentColor\" x=\"860\">PROPN</tspan>\n",
       "</text>\n",
       "\n",
       "<text class=\"displacy-token\" fill=\"currentColor\" text-anchor=\"middle\" y=\"182.0\">\n",
       "    <tspan class=\"displacy-word\" fill=\"currentColor\" x=\"950\">of ...&quot;</tspan>\n",
       "    <tspan class=\"displacy-tag\" dy=\"2em\" fill=\"currentColor\" x=\"950\">ADP</tspan>\n",
       "</text>\n",
       "\n",
       "<g class=\"displacy-arrow\">\n",
       "    <path class=\"displacy-arc\" id=\"arrow-5e5257a8fe5c4947b8b6985e975f0a9f-0-0\" stroke-width=\"2px\" d=\"M62,137.0 62,92.0 320.0,92.0 320.0,137.0\" fill=\"none\" stroke=\"currentColor\"/>\n",
       "    <text dy=\"1.25em\" style=\"font-size: 0.8em; letter-spacing: 1px\">\n",
       "        <textPath xlink:href=\"#arrow-5e5257a8fe5c4947b8b6985e975f0a9f-0-0\" class=\"displacy-label\" startOffset=\"50%\" side=\"left\" fill=\"currentColor\" text-anchor=\"middle\">punct</textPath>\n",
       "    </text>\n",
       "    <path class=\"displacy-arrowhead\" d=\"M62,139.0 L58,131.0 66,131.0\" fill=\"currentColor\"/>\n",
       "</g>\n",
       "\n",
       "<g class=\"displacy-arrow\">\n",
       "    <path class=\"displacy-arc\" id=\"arrow-5e5257a8fe5c4947b8b6985e975f0a9f-0-1\" stroke-width=\"2px\" d=\"M152,137.0 152,107.0 317.0,107.0 317.0,137.0\" fill=\"none\" stroke=\"currentColor\"/>\n",
       "    <text dy=\"1.25em\" style=\"font-size: 0.8em; letter-spacing: 1px\">\n",
       "        <textPath xlink:href=\"#arrow-5e5257a8fe5c4947b8b6985e975f0a9f-0-1\" class=\"displacy-label\" startOffset=\"50%\" side=\"left\" fill=\"currentColor\" text-anchor=\"middle\">compound</textPath>\n",
       "    </text>\n",
       "    <path class=\"displacy-arrowhead\" d=\"M152,139.0 L148,131.0 156,131.0\" fill=\"currentColor\"/>\n",
       "</g>\n",
       "\n",
       "<g class=\"displacy-arrow\">\n",
       "    <path class=\"displacy-arc\" id=\"arrow-5e5257a8fe5c4947b8b6985e975f0a9f-0-2\" stroke-width=\"2px\" d=\"M242,137.0 242,122.0 314.0,122.0 314.0,137.0\" fill=\"none\" stroke=\"currentColor\"/>\n",
       "    <text dy=\"1.25em\" style=\"font-size: 0.8em; letter-spacing: 1px\">\n",
       "        <textPath xlink:href=\"#arrow-5e5257a8fe5c4947b8b6985e975f0a9f-0-2\" class=\"displacy-label\" startOffset=\"50%\" side=\"left\" fill=\"currentColor\" text-anchor=\"middle\">compound</textPath>\n",
       "    </text>\n",
       "    <path class=\"displacy-arrowhead\" d=\"M242,139.0 L238,131.0 246,131.0\" fill=\"currentColor\"/>\n",
       "</g>\n",
       "\n",
       "<g class=\"displacy-arrow\">\n",
       "    <path class=\"displacy-arc\" id=\"arrow-5e5257a8fe5c4947b8b6985e975f0a9f-0-3\" stroke-width=\"2px\" d=\"M332,137.0 332,122.0 404.0,122.0 404.0,137.0\" fill=\"none\" stroke=\"currentColor\"/>\n",
       "    <text dy=\"1.25em\" style=\"font-size: 0.8em; letter-spacing: 1px\">\n",
       "        <textPath xlink:href=\"#arrow-5e5257a8fe5c4947b8b6985e975f0a9f-0-3\" class=\"displacy-label\" startOffset=\"50%\" side=\"left\" fill=\"currentColor\" text-anchor=\"middle\">amod</textPath>\n",
       "    </text>\n",
       "    <path class=\"displacy-arrowhead\" d=\"M404.0,139.0 L408.0,131.0 400.0,131.0\" fill=\"currentColor\"/>\n",
       "</g>\n",
       "\n",
       "<g class=\"displacy-arrow\">\n",
       "    <path class=\"displacy-arc\" id=\"arrow-5e5257a8fe5c4947b8b6985e975f0a9f-0-4\" stroke-width=\"2px\" d=\"M512,137.0 512,122.0 584.0,122.0 584.0,137.0\" fill=\"none\" stroke=\"currentColor\"/>\n",
       "    <text dy=\"1.25em\" style=\"font-size: 0.8em; letter-spacing: 1px\">\n",
       "        <textPath xlink:href=\"#arrow-5e5257a8fe5c4947b8b6985e975f0a9f-0-4\" class=\"displacy-label\" startOffset=\"50%\" side=\"left\" fill=\"currentColor\" text-anchor=\"middle\">compound</textPath>\n",
       "    </text>\n",
       "    <path class=\"displacy-arrowhead\" d=\"M512,139.0 L508,131.0 516,131.0\" fill=\"currentColor\"/>\n",
       "</g>\n",
       "\n",
       "<g class=\"displacy-arrow\">\n",
       "    <path class=\"displacy-arc\" id=\"arrow-5e5257a8fe5c4947b8b6985e975f0a9f-0-5\" stroke-width=\"2px\" d=\"M332,137.0 332,92.0 590.0,92.0 590.0,137.0\" fill=\"none\" stroke=\"currentColor\"/>\n",
       "    <text dy=\"1.25em\" style=\"font-size: 0.8em; letter-spacing: 1px\">\n",
       "        <textPath xlink:href=\"#arrow-5e5257a8fe5c4947b8b6985e975f0a9f-0-5\" class=\"displacy-label\" startOffset=\"50%\" side=\"left\" fill=\"currentColor\" text-anchor=\"middle\">appos</textPath>\n",
       "    </text>\n",
       "    <path class=\"displacy-arrowhead\" d=\"M590.0,139.0 L594.0,131.0 586.0,131.0\" fill=\"currentColor\"/>\n",
       "</g>\n",
       "\n",
       "<g class=\"displacy-arrow\">\n",
       "    <path class=\"displacy-arc\" id=\"arrow-5e5257a8fe5c4947b8b6985e975f0a9f-0-6\" stroke-width=\"2px\" d=\"M692,137.0 692,107.0 857.0,107.0 857.0,137.0\" fill=\"none\" stroke=\"currentColor\"/>\n",
       "    <text dy=\"1.25em\" style=\"font-size: 0.8em; letter-spacing: 1px\">\n",
       "        <textPath xlink:href=\"#arrow-5e5257a8fe5c4947b8b6985e975f0a9f-0-6\" class=\"displacy-label\" startOffset=\"50%\" side=\"left\" fill=\"currentColor\" text-anchor=\"middle\">compound</textPath>\n",
       "    </text>\n",
       "    <path class=\"displacy-arrowhead\" d=\"M692,139.0 L688,131.0 696,131.0\" fill=\"currentColor\"/>\n",
       "</g>\n",
       "\n",
       "<g class=\"displacy-arrow\">\n",
       "    <path class=\"displacy-arc\" id=\"arrow-5e5257a8fe5c4947b8b6985e975f0a9f-0-7\" stroke-width=\"2px\" d=\"M782,137.0 782,122.0 854.0,122.0 854.0,137.0\" fill=\"none\" stroke=\"currentColor\"/>\n",
       "    <text dy=\"1.25em\" style=\"font-size: 0.8em; letter-spacing: 1px\">\n",
       "        <textPath xlink:href=\"#arrow-5e5257a8fe5c4947b8b6985e975f0a9f-0-7\" class=\"displacy-label\" startOffset=\"50%\" side=\"left\" fill=\"currentColor\" text-anchor=\"middle\">compound</textPath>\n",
       "    </text>\n",
       "    <path class=\"displacy-arrowhead\" d=\"M782,139.0 L778,131.0 786,131.0\" fill=\"currentColor\"/>\n",
       "</g>\n",
       "\n",
       "<g class=\"displacy-arrow\">\n",
       "    <path class=\"displacy-arc\" id=\"arrow-5e5257a8fe5c4947b8b6985e975f0a9f-0-8\" stroke-width=\"2px\" d=\"M872,137.0 872,122.0 944.0,122.0 944.0,137.0\" fill=\"none\" stroke=\"currentColor\"/>\n",
       "    <text dy=\"1.25em\" style=\"font-size: 0.8em; letter-spacing: 1px\">\n",
       "        <textPath xlink:href=\"#arrow-5e5257a8fe5c4947b8b6985e975f0a9f-0-8\" class=\"displacy-label\" startOffset=\"50%\" side=\"left\" fill=\"currentColor\" text-anchor=\"middle\">prep</textPath>\n",
       "    </text>\n",
       "    <path class=\"displacy-arrowhead\" d=\"M944.0,139.0 L948.0,131.0 940.0,131.0\" fill=\"currentColor\"/>\n",
       "</g>\n",
       "</svg></span>"
      ],
      "text/plain": [
       "<IPython.core.display.HTML object>"
      ]
     },
     "metadata": {},
     "output_type": "display_data"
    }
   ],
   "source": [
    "options={'compact': True, 'distance': 90}\n",
    "\n",
    "doc = nlp('\"Happy White Woman Pregnant, Black Man. Stock Photo - Image of ...\"')\n",
    "displacy.render(doc, style=\"dep\", options=options)"
   ]
  },
  {
   "cell_type": "code",
   "execution_count": 9,
   "id": "cf904e61",
   "metadata": {
    "scrolled": true
   },
   "outputs": [
    {
     "data": {
      "text/html": [
       "<span class=\"tex2jax_ignore\"><svg xmlns=\"http://www.w3.org/2000/svg\" xmlns:xlink=\"http://www.w3.org/1999/xlink\" xml:lang=\"en\" id=\"f03f7519752b4ae98ee928e3ed91ec26-0\" class=\"displacy\" width=\"860\" height=\"272.0\" direction=\"ltr\" style=\"max-width: none; height: 272.0px; color: #000000; background: #ffffff; font-family: Arial; direction: ltr\">\n",
       "<text class=\"displacy-token\" fill=\"currentColor\" text-anchor=\"middle\" y=\"182.0\">\n",
       "    <tspan class=\"displacy-word\" fill=\"currentColor\" x=\"50\">&quot;</tspan>\n",
       "    <tspan class=\"displacy-tag\" dy=\"2em\" fill=\"currentColor\" x=\"50\">PUNCT</tspan>\n",
       "</text>\n",
       "\n",
       "<text class=\"displacy-token\" fill=\"currentColor\" text-anchor=\"middle\" y=\"182.0\">\n",
       "    <tspan class=\"displacy-word\" fill=\"currentColor\" x=\"140\">Happy</tspan>\n",
       "    <tspan class=\"displacy-tag\" dy=\"2em\" fill=\"currentColor\" x=\"140\">PROPN</tspan>\n",
       "</text>\n",
       "\n",
       "<text class=\"displacy-token\" fill=\"currentColor\" text-anchor=\"middle\" y=\"182.0\">\n",
       "    <tspan class=\"displacy-word\" fill=\"currentColor\" x=\"230\">Woman</tspan>\n",
       "    <tspan class=\"displacy-tag\" dy=\"2em\" fill=\"currentColor\" x=\"230\">PROPN</tspan>\n",
       "</text>\n",
       "\n",
       "<text class=\"displacy-token\" fill=\"currentColor\" text-anchor=\"middle\" y=\"182.0\">\n",
       "    <tspan class=\"displacy-word\" fill=\"currentColor\" x=\"320\">With</tspan>\n",
       "    <tspan class=\"displacy-tag\" dy=\"2em\" fill=\"currentColor\" x=\"320\">ADP</tspan>\n",
       "</text>\n",
       "\n",
       "<text class=\"displacy-token\" fill=\"currentColor\" text-anchor=\"middle\" y=\"182.0\">\n",
       "    <tspan class=\"displacy-word\" fill=\"currentColor\" x=\"410\">Big</tspan>\n",
       "    <tspan class=\"displacy-tag\" dy=\"2em\" fill=\"currentColor\" x=\"410\">PROPN</tspan>\n",
       "</text>\n",
       "\n",
       "<text class=\"displacy-token\" fill=\"currentColor\" text-anchor=\"middle\" y=\"182.0\">\n",
       "    <tspan class=\"displacy-word\" fill=\"currentColor\" x=\"500\">Smile,</tspan>\n",
       "    <tspan class=\"displacy-tag\" dy=\"2em\" fill=\"currentColor\" x=\"500\">NOUN</tspan>\n",
       "</text>\n",
       "\n",
       "<text class=\"displacy-token\" fill=\"currentColor\" text-anchor=\"middle\" y=\"182.0\">\n",
       "    <tspan class=\"displacy-word\" fill=\"currentColor\" x=\"590\">Studio</tspan>\n",
       "    <tspan class=\"displacy-tag\" dy=\"2em\" fill=\"currentColor\" x=\"590\">PROPN</tspan>\n",
       "</text>\n",
       "\n",
       "<text class=\"displacy-token\" fill=\"currentColor\" text-anchor=\"middle\" y=\"182.0\">\n",
       "    <tspan class=\"displacy-word\" fill=\"currentColor\" x=\"680\">White</tspan>\n",
       "    <tspan class=\"displacy-tag\" dy=\"2em\" fill=\"currentColor\" x=\"680\">PROPN</tspan>\n",
       "</text>\n",
       "\n",
       "<text class=\"displacy-token\" fill=\"currentColor\" text-anchor=\"middle\" y=\"182.0\">\n",
       "    <tspan class=\"displacy-word\" fill=\"currentColor\" x=\"770\">Background ...&quot;</tspan>\n",
       "    <tspan class=\"displacy-tag\" dy=\"2em\" fill=\"currentColor\" x=\"770\">PROPN</tspan>\n",
       "</text>\n",
       "\n",
       "<g class=\"displacy-arrow\">\n",
       "    <path class=\"displacy-arc\" id=\"arrow-f03f7519752b4ae98ee928e3ed91ec26-0-0\" stroke-width=\"2px\" d=\"M62,137.0 62,107.0 227.0,107.0 227.0,137.0\" fill=\"none\" stroke=\"currentColor\"/>\n",
       "    <text dy=\"1.25em\" style=\"font-size: 0.8em; letter-spacing: 1px\">\n",
       "        <textPath xlink:href=\"#arrow-f03f7519752b4ae98ee928e3ed91ec26-0-0\" class=\"displacy-label\" startOffset=\"50%\" side=\"left\" fill=\"currentColor\" text-anchor=\"middle\">punct</textPath>\n",
       "    </text>\n",
       "    <path class=\"displacy-arrowhead\" d=\"M62,139.0 L58,131.0 66,131.0\" fill=\"currentColor\"/>\n",
       "</g>\n",
       "\n",
       "<g class=\"displacy-arrow\">\n",
       "    <path class=\"displacy-arc\" id=\"arrow-f03f7519752b4ae98ee928e3ed91ec26-0-1\" stroke-width=\"2px\" d=\"M152,137.0 152,122.0 224.0,122.0 224.0,137.0\" fill=\"none\" stroke=\"currentColor\"/>\n",
       "    <text dy=\"1.25em\" style=\"font-size: 0.8em; letter-spacing: 1px\">\n",
       "        <textPath xlink:href=\"#arrow-f03f7519752b4ae98ee928e3ed91ec26-0-1\" class=\"displacy-label\" startOffset=\"50%\" side=\"left\" fill=\"currentColor\" text-anchor=\"middle\">compound</textPath>\n",
       "    </text>\n",
       "    <path class=\"displacy-arrowhead\" d=\"M152,139.0 L148,131.0 156,131.0\" fill=\"currentColor\"/>\n",
       "</g>\n",
       "\n",
       "<g class=\"displacy-arrow\">\n",
       "    <path class=\"displacy-arc\" id=\"arrow-f03f7519752b4ae98ee928e3ed91ec26-0-2\" stroke-width=\"2px\" d=\"M242,137.0 242,122.0 314.0,122.0 314.0,137.0\" fill=\"none\" stroke=\"currentColor\"/>\n",
       "    <text dy=\"1.25em\" style=\"font-size: 0.8em; letter-spacing: 1px\">\n",
       "        <textPath xlink:href=\"#arrow-f03f7519752b4ae98ee928e3ed91ec26-0-2\" class=\"displacy-label\" startOffset=\"50%\" side=\"left\" fill=\"currentColor\" text-anchor=\"middle\">prep</textPath>\n",
       "    </text>\n",
       "    <path class=\"displacy-arrowhead\" d=\"M314.0,139.0 L318.0,131.0 310.0,131.0\" fill=\"currentColor\"/>\n",
       "</g>\n",
       "\n",
       "<g class=\"displacy-arrow\">\n",
       "    <path class=\"displacy-arc\" id=\"arrow-f03f7519752b4ae98ee928e3ed91ec26-0-3\" stroke-width=\"2px\" d=\"M422,137.0 422,122.0 494.0,122.0 494.0,137.0\" fill=\"none\" stroke=\"currentColor\"/>\n",
       "    <text dy=\"1.25em\" style=\"font-size: 0.8em; letter-spacing: 1px\">\n",
       "        <textPath xlink:href=\"#arrow-f03f7519752b4ae98ee928e3ed91ec26-0-3\" class=\"displacy-label\" startOffset=\"50%\" side=\"left\" fill=\"currentColor\" text-anchor=\"middle\">compound</textPath>\n",
       "    </text>\n",
       "    <path class=\"displacy-arrowhead\" d=\"M422,139.0 L418,131.0 426,131.0\" fill=\"currentColor\"/>\n",
       "</g>\n",
       "\n",
       "<g class=\"displacy-arrow\">\n",
       "    <path class=\"displacy-arc\" id=\"arrow-f03f7519752b4ae98ee928e3ed91ec26-0-4\" stroke-width=\"2px\" d=\"M332,137.0 332,107.0 497.0,107.0 497.0,137.0\" fill=\"none\" stroke=\"currentColor\"/>\n",
       "    <text dy=\"1.25em\" style=\"font-size: 0.8em; letter-spacing: 1px\">\n",
       "        <textPath xlink:href=\"#arrow-f03f7519752b4ae98ee928e3ed91ec26-0-4\" class=\"displacy-label\" startOffset=\"50%\" side=\"left\" fill=\"currentColor\" text-anchor=\"middle\">pobj</textPath>\n",
       "    </text>\n",
       "    <path class=\"displacy-arrowhead\" d=\"M497.0,139.0 L501.0,131.0 493.0,131.0\" fill=\"currentColor\"/>\n",
       "</g>\n",
       "\n",
       "<g class=\"displacy-arrow\">\n",
       "    <path class=\"displacy-arc\" id=\"arrow-f03f7519752b4ae98ee928e3ed91ec26-0-5\" stroke-width=\"2px\" d=\"M602,137.0 602,107.0 767.0,107.0 767.0,137.0\" fill=\"none\" stroke=\"currentColor\"/>\n",
       "    <text dy=\"1.25em\" style=\"font-size: 0.8em; letter-spacing: 1px\">\n",
       "        <textPath xlink:href=\"#arrow-f03f7519752b4ae98ee928e3ed91ec26-0-5\" class=\"displacy-label\" startOffset=\"50%\" side=\"left\" fill=\"currentColor\" text-anchor=\"middle\">compound</textPath>\n",
       "    </text>\n",
       "    <path class=\"displacy-arrowhead\" d=\"M602,139.0 L598,131.0 606,131.0\" fill=\"currentColor\"/>\n",
       "</g>\n",
       "\n",
       "<g class=\"displacy-arrow\">\n",
       "    <path class=\"displacy-arc\" id=\"arrow-f03f7519752b4ae98ee928e3ed91ec26-0-6\" stroke-width=\"2px\" d=\"M692,137.0 692,122.0 764.0,122.0 764.0,137.0\" fill=\"none\" stroke=\"currentColor\"/>\n",
       "    <text dy=\"1.25em\" style=\"font-size: 0.8em; letter-spacing: 1px\">\n",
       "        <textPath xlink:href=\"#arrow-f03f7519752b4ae98ee928e3ed91ec26-0-6\" class=\"displacy-label\" startOffset=\"50%\" side=\"left\" fill=\"currentColor\" text-anchor=\"middle\">compound</textPath>\n",
       "    </text>\n",
       "    <path class=\"displacy-arrowhead\" d=\"M692,139.0 L688,131.0 696,131.0\" fill=\"currentColor\"/>\n",
       "</g>\n",
       "\n",
       "<g class=\"displacy-arrow\">\n",
       "    <path class=\"displacy-arc\" id=\"arrow-f03f7519752b4ae98ee928e3ed91ec26-0-7\" stroke-width=\"2px\" d=\"M242,137.0 242,92.0 770.0,92.0 770.0,137.0\" fill=\"none\" stroke=\"currentColor\"/>\n",
       "    <text dy=\"1.25em\" style=\"font-size: 0.8em; letter-spacing: 1px\">\n",
       "        <textPath xlink:href=\"#arrow-f03f7519752b4ae98ee928e3ed91ec26-0-7\" class=\"displacy-label\" startOffset=\"50%\" side=\"left\" fill=\"currentColor\" text-anchor=\"middle\">conj</textPath>\n",
       "    </text>\n",
       "    <path class=\"displacy-arrowhead\" d=\"M770.0,139.0 L774.0,131.0 766.0,131.0\" fill=\"currentColor\"/>\n",
       "</g>\n",
       "</svg></span>"
      ],
      "text/plain": [
       "<IPython.core.display.HTML object>"
      ]
     },
     "metadata": {},
     "output_type": "display_data"
    }
   ],
   "source": [
    "doc = nlp('\"Happy Woman With Big Smile, Studio White Background ...\"')\n",
    "displacy.render(doc, style=\"dep\", options=options)"
   ]
  },
  {
   "cell_type": "markdown",
   "id": "a9d2e460",
   "metadata": {},
   "source": [
    "## Get dependency and dependency heads for word 'white'\n",
    "https://spacy.io/api/dependencyparser  \n",
    "https://spacy.io/usage/linguistic-features#dependency-parse"
   ]
  },
  {
   "cell_type": "code",
   "execution_count": 10,
   "id": "26023073",
   "metadata": {},
   "outputs": [],
   "source": [
    "# function to get dependency type for word in text \n",
    "def get_dep_type(text, word):\n",
    "    deps = []\n",
    "    doc = nlp(text)\n",
    "    for token in doc:\n",
    "        if token.text.lower() == word.lower():\n",
    "            deps.append(token.dep_)\n",
    "    return deps\n",
    "\n",
    "# function to get dependency head for word in text \n",
    "def get_dep_head(text, word):\n",
    "    heads = []\n",
    "    doc = nlp(text)\n",
    "    for token in doc:\n",
    "        if token.text.lower() == word.lower():\n",
    "            heads.append(token.head.text.lower())\n",
    "    return heads"
   ]
  },
  {
   "cell_type": "code",
   "execution_count": 11,
   "id": "4f50f0e0",
   "metadata": {},
   "outputs": [],
   "source": [
    "google_dataset['deps'] = google_dataset['title'].apply(get_dep_type, word='white')\n",
    "google_dataset['deps head'] = google_dataset['title'].apply(get_dep_head, word='white')\n",
    "\n",
    "bing_dataset['deps'] = bing_dataset['title'].apply(get_dep_type, word='white')\n",
    "bing_dataset['deps head'] = bing_dataset['title'].apply(get_dep_head, word='white')"
   ]
  },
  {
   "cell_type": "code",
   "execution_count": 12,
   "id": "935fad17",
   "metadata": {},
   "outputs": [
    {
     "data": {
      "text/plain": [
       "Counter({'amod': 37, 'compound': 33})"
      ]
     },
     "execution_count": 12,
     "metadata": {},
     "output_type": "execute_result"
    }
   ],
   "source": [
    "# Check dependency types for word white in titles\n",
    "deps = list(itertools.chain.from_iterable(google_dataset['deps']))\n",
    "Counter(deps)"
   ]
  },
  {
   "cell_type": "code",
   "execution_count": 13,
   "id": "f270f5cc",
   "metadata": {},
   "outputs": [
    {
     "data": {
      "text/plain": [
       "Counter({'compound': 40, 'amod': 8, 'conj': 1, 'pobj': 4})"
      ]
     },
     "execution_count": 13,
     "metadata": {},
     "output_type": "execute_result"
    }
   ],
   "source": [
    "deps = list(itertools.chain.from_iterable(bing_dataset['deps']))\n",
    "Counter(deps)"
   ]
  },
  {
   "cell_type": "code",
   "execution_count": 14,
   "id": "526dcb22",
   "metadata": {},
   "outputs": [
    {
     "data": {
      "text/plain": [
       "[('background', 13),\n",
       " ('stock', 8),\n",
       " ('happy', 4),\n",
       " ('|', 3),\n",
       " ('shirt', 2),\n",
       " ('woman', 2),\n",
       " ('sweater', 2),\n",
       " ('over', 2),\n",
       " ('photo', 2),\n",
       " ('free', 1),\n",
       " ('hood', 1),\n",
       " ('black', 1),\n",
       " ('underwear', 1),\n",
       " ('dress', 1),\n",
       " ('looking', 1),\n",
       " ('american', 1),\n",
       " ('royalty', 1),\n",
       " ('sarong', 1),\n",
       " ('on', 1),\n",
       " ('teeth', 1),\n",
       " ('portrait', 1),\n",
       " ('surface', 1),\n",
       " ('with', 1),\n",
       " ('wall', 1)]"
      ]
     },
     "execution_count": 14,
     "metadata": {},
     "output_type": "execute_result"
    }
   ],
   "source": [
    "# Count dependency heads for word white in titles \n",
    "bing_heads = list(itertools.chain.from_iterable(bing_dataset['deps head']))\n",
    "bing_cnt = Counter(bing_heads)\n",
    "bing_cnt.most_common()"
   ]
  },
  {
   "cell_type": "code",
   "execution_count": 15,
   "id": "0d68af43",
   "metadata": {},
   "outputs": [
    {
     "data": {
      "text/plain": [
       "[('woman', 48),\n",
       " ('women', 10),\n",
       " ('stock', 3),\n",
       " ('background', 2),\n",
       " ('man', 1),\n",
       " ('underwear', 1),\n",
       " ('men', 1),\n",
       " ('shirts', 1),\n",
       " ('supremacy', 1),\n",
       " ('collar', 1),\n",
       " ('teeth', 1)]"
      ]
     },
     "execution_count": 15,
     "metadata": {},
     "output_type": "execute_result"
    }
   ],
   "source": [
    "google_heads = list(itertools.chain.from_iterable(google_dataset['deps head']))\n",
    "google_cnt = Counter(google_heads)\n",
    "google_cnt.most_common()"
   ]
  },
  {
   "cell_type": "markdown",
   "id": "a0bbb7cd",
   "metadata": {},
   "source": [
    "### Plot results\n",
    "We will use bar plot to show most common heads."
   ]
  },
  {
   "cell_type": "code",
   "execution_count": 16,
   "id": "705d6e22",
   "metadata": {},
   "outputs": [],
   "source": [
    "cnt = google_cnt + bing_cnt\n",
    "labels = [k for k, v in cnt.most_common(15)]\n",
    "google_values = [google_cnt[lbl] for lbl in labels]\n",
    "bing_values = [bing_cnt[lbl] for lbl in labels]"
   ]
  },
  {
   "cell_type": "code",
   "execution_count": 22,
   "id": "8ba009a6",
   "metadata": {},
   "outputs": [
    {
     "data": {
      "image/png": "[encoded data removed]",
      "text/plain": [
       "<Figure size 1440x720 with 1 Axes>"
      ]
     },
     "metadata": {
      "needs_background": "light"
     },
     "output_type": "display_data"
    }
   ],
   "source": [
    "plt.rcParams[\"figure.figsize\"] = (20,10)\n",
    "\n",
    "x = np.arange(len(labels))\n",
    "width = 0.4\n",
    "\n",
    "fig, ax = plt.subplots()\n",
    "ax.bar(x-width/2, google_values, width=width, label='google')\n",
    "ax.bar(x+width/2, bing_values, width=width, label='bing')\n",
    "ax.set_xticks(x)\n",
    "ax.set_xticklabels(labels, fontsize=15, rotation=45)\n",
    "ax.legend(fontsize=20)\n",
    "ax.set_title(\"Heads count for word 'white'\", fontsize=15)\n",
    "\n",
    "plt.show()"
   ]
  },
  {
   "cell_type": "markdown",
   "id": "98d82ea8",
   "metadata": {},
   "source": [
    "## Check other queries"
   ]
  },
  {
   "cell_type": "code",
   "execution_count": 18,
   "id": "e5eff50b",
   "metadata": {},
   "outputs": [],
   "source": [
    "a_dataset = df[df['query'] == 'happy+asian+woman'].copy()\n",
    "b_dataset = df[df['query'] == 'happy+black+woman'].copy()\n",
    "\n",
    "a_dataset['deps head'] = a_dataset['title'].apply(get_dep_head, word='asian')\n",
    "b_dataset['deps head'] = b_dataset['title'].apply(get_dep_head, word='black')\n",
    "\n",
    "a_heads = list(itertools.chain.from_iterable(a_dataset['deps head']))\n",
    "b_heads = list(itertools.chain.from_iterable(b_dataset['deps head']))"
   ]
  },
  {
   "cell_type": "code",
   "execution_count": 19,
   "id": "f4e2ee7b",
   "metadata": {},
   "outputs": [
    {
     "data": {
      "text/plain": [
       "[('woman', 122),\n",
       " ('girl', 5),\n",
       " ('women', 4),\n",
       " ('teenage', 4),\n",
       " ('image', 3),\n",
       " ('business', 3),\n",
       " ('images', 3),\n",
       " ('photo', 3),\n",
       " ('young', 2),\n",
       " ('girls', 2),\n",
       " ('girlfriends', 1),\n",
       " ('asian', 1),\n",
       " ('people', 1),\n",
       " ('wife', 1),\n",
       " ('couple', 1)]"
      ]
     },
     "execution_count": 19,
     "metadata": {},
     "output_type": "execute_result"
    }
   ],
   "source": [
    "a_cnt = Counter(a_heads)\n",
    "a_cnt.most_common()"
   ]
  },
  {
   "cell_type": "code",
   "execution_count": 20,
   "id": "9fceb5f0",
   "metadata": {},
   "outputs": [
    {
     "data": {
      "text/plain": [
       "[('woman', 114),\n",
       " ('women', 16),\n",
       " ('girl', 4),\n",
       " ('lady', 3),\n",
       " ('images', 2),\n",
       " ('business', 2),\n",
       " ('thurman', 1),\n",
       " ('|', 1),\n",
       " ('stock', 1),\n",
       " ('mug', 1),\n",
       " ('people', 1),\n",
       " ('grandma', 1),\n",
       " ('african', 1),\n",
       " ('version', 1),\n",
       " ('female', 1),\n",
       " ('is', 1),\n",
       " ('black', 1)]"
      ]
     },
     "execution_count": 20,
     "metadata": {},
     "output_type": "execute_result"
    }
   ],
   "source": [
    "b_cnt = Counter(b_heads)\n",
    "b_cnt.most_common()"
   ]
  },
  {
   "cell_type": "markdown",
   "id": "e7a02f41",
   "metadata": {},
   "source": [
    "## TODO:\n",
    "* Check what noun phrases we can find in documents. Use doc.noun_chunks iterator.  \n",
    "https://spacy.io/api/doc#noun_chunks"
   ]
  }
 ],
 "metadata": {
  "kernelspec": {
   "display_name": "Python 3 (ipykernel)",
   "language": "python",
   "name": "python3"
  },
  "language_info": {
   "codemirror_mode": {
    "name": "ipython",
    "version": 3
   },
   "file_extension": ".py",
   "mimetype": "text/x-python",
   "name": "python",
   "nbconvert_exporter": "python",
   "pygments_lexer": "ipython3",
   "version": "3.8.9"
  }
 },
 "nbformat": 4,
 "nbformat_minor": 5
}
