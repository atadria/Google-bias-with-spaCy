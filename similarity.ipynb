{
 "cells": [
  {
   "cell_type": "code",
   "execution_count": null,
   "id": "5e3afe0e",
   "metadata": {},
   "outputs": [],
   "source": [
    "# setup for google colab\n",
    "\n",
    "# !pip install spacy==3.1.4\n",
    "# !python -m spacy download en_core_web_md\n",
    "\n",
    "# restart runtime before running notebook"
   ]
  },
  {
   "cell_type": "code",
   "execution_count": null,
   "id": "8d23e5ac",
   "metadata": {},
   "outputs": [],
   "source": [
    "import spacy\n",
    "import pandas as pd\n",
    "import matplotlib.pyplot as plt"
   ]
  },
  {
   "cell_type": "markdown",
   "id": "f5e3e0a9",
   "metadata": {},
   "source": [
    "# Similarity with SpaCy"
   ]
  },
  {
   "cell_type": "markdown",
   "id": "8146e7fc",
   "metadata": {},
   "source": [
    "### Load model\n",
    "\n",
    "We will use meduim English pipeline trained on written web text (blogs, news, comments) with reduced word vector table (20k unique vectors for 685k words).  \n",
    "https://spacy.io/models/en#en_core_web_md  \n",
    "\n",
    "More spaCy models can be found at: \n",
    "https://spacy.io/models   \n",
    "\n",
    "We create [text-processing pipeline](https://spacy.io/api/language) by using spacy.load function. "
   ]
  },
  {
   "cell_type": "code",
   "execution_count": null,
   "id": "543951db",
   "metadata": {},
   "outputs": [],
   "source": [
    "# load model\n",
    "nlp = spacy.load(\"en_core_web_md\")"
   ]
  },
  {
   "cell_type": "markdown",
   "id": "071eb2e4",
   "metadata": {},
   "source": [
    "## Document similarity\n",
    "### Text processing\n",
    "Class Doc is a container for accessing linguistic annotations, it is a sequence of Token objects. The most common way to get a Doc object is via the nlp object."
   ]
  },
  {
   "cell_type": "code",
   "execution_count": null,
   "id": "6eb06e9e",
   "metadata": {},
   "outputs": [],
   "source": [
    "query = nlp(\"happy white woman\") \n",
    "doc1 = nlp(\"Two Happy Asian Girls Stock Photo 113778403 : Shutterstock\")\n",
    "doc2 = nlp(\"Happy Young Woman In White Dress Walking In Spring Park ...\")\n",
    "doc3 = nlp(\"Happy Couple White Woman Black Man Stock Photo (Edit Now) 47205217\")"
   ]
  },
  {
   "cell_type": "markdown",
   "id": "1a641044",
   "metadata": {},
   "source": [
    "### Cosine similarity\n",
    "To check similarity between query and documents (titles from search results) we will use [cosine similarity](https://en.wikipedia.org/wiki/Cosine_similarity).  \n",
    "We can use method .similarity to compute a semantic similarity estimate. Documents vector representation is average of their token vectors.  \n",
    "https://spacy.io/usage/linguistic-features#vectors-similarity"
   ]
  },
  {
   "cell_type": "code",
   "execution_count": null,
   "id": "1d47d699",
   "metadata": {},
   "outputs": [],
   "source": [
    "doc1.similarity(query)"
   ]
  },
  {
   "cell_type": "code",
   "execution_count": null,
   "id": "b5b6f7d8",
   "metadata": {},
   "outputs": [],
   "source": [
    "doc2.similarity(query)"
   ]
  },
  {
   "cell_type": "code",
   "execution_count": null,
   "id": "c7656e88",
   "metadata": {},
   "outputs": [],
   "source": [
    "doc3.similarity(query)"
   ]
  },
  {
   "cell_type": "markdown",
   "id": "ad207b38",
   "metadata": {},
   "source": [
    "## Load data"
   ]
  },
  {
   "cell_type": "code",
   "execution_count": null,
   "id": "05abb4d4",
   "metadata": {},
   "outputs": [],
   "source": [
    "df = pd.read_csv('data/dataset.csv')\n",
    "df.head()"
   ]
  },
  {
   "cell_type": "code",
   "execution_count": null,
   "id": "ca2c999f",
   "metadata": {},
   "outputs": [],
   "source": [
    "# limit our dataset only to one query 'happy white woman'\n",
    "dataset = df[df['query'] == 'happy+white+woman']\n",
    "\n",
    "# use first 30 results for Bing and Google\n",
    "google_dataset = dataset[dataset['engine']=='google'][:30]\n",
    "bing_dataset = dataset[dataset['engine']=='bing'][:30]\n",
    "\n",
    "print(\"Google dataset size: \", google_dataset.shape[0])\n",
    "print(\"Bing dataset size: \", bing_dataset.shape[0])"
   ]
  },
  {
   "cell_type": "markdown",
   "id": "f59c882c",
   "metadata": {},
   "source": [
    "## Calculate similarity between query and image title"
   ]
  },
  {
   "cell_type": "code",
   "execution_count": null,
   "id": "829279de",
   "metadata": {},
   "outputs": [],
   "source": [
    "def get_similarity(text, query):\n",
    "    doc = nlp(text)\n",
    "    return doc.similarity(nlp(query))"
   ]
  },
  {
   "cell_type": "code",
   "execution_count": null,
   "id": "055184ac",
   "metadata": {},
   "outputs": [],
   "source": [
    "google_dataset['similarity'] = google_dataset['title'].apply(get_similarity, query='happy white woman')\n",
    "bing_dataset['similarity'] = bing_dataset['title'].apply(get_similarity, query='happy white woman')"
   ]
  },
  {
   "cell_type": "markdown",
   "id": "ce6b615e",
   "metadata": {},
   "source": [
    "### Similarity for Google results"
   ]
  },
  {
   "cell_type": "code",
   "execution_count": null,
   "id": "91027c8e",
   "metadata": {},
   "outputs": [],
   "source": [
    "google_dataset['similarity'].describe()"
   ]
  },
  {
   "cell_type": "code",
   "execution_count": null,
   "id": "a1fc2f24",
   "metadata": {},
   "outputs": [],
   "source": [
    "pd.options.display.max_colwidth = 150\n",
    "\n",
    "google_dataset[google_dataset['similarity'] == google_dataset['similarity'].max()]"
   ]
  },
  {
   "cell_type": "code",
   "execution_count": null,
   "id": "850bf732",
   "metadata": {},
   "outputs": [],
   "source": [
    "google_dataset[google_dataset['similarity'] == google_dataset['similarity'].min()]"
   ]
  },
  {
   "cell_type": "markdown",
   "id": "cd14c6bd",
   "metadata": {},
   "source": [
    "### Similarity for Bing results"
   ]
  },
  {
   "cell_type": "code",
   "execution_count": null,
   "id": "e30f1731",
   "metadata": {
    "scrolled": true
   },
   "outputs": [],
   "source": [
    "bing_dataset['similarity'].describe()"
   ]
  },
  {
   "cell_type": "code",
   "execution_count": null,
   "id": "49dba6ff",
   "metadata": {},
   "outputs": [],
   "source": [
    "bing_dataset[bing_dataset['similarity'] == bing_dataset['similarity'].max()]"
   ]
  },
  {
   "cell_type": "code",
   "execution_count": null,
   "id": "7d1258f5",
   "metadata": {},
   "outputs": [],
   "source": [
    "bing_dataset[bing_dataset['similarity'] == bing_dataset['similarity'].min()]"
   ]
  },
  {
   "cell_type": "markdown",
   "id": "f798dea5",
   "metadata": {},
   "source": [
    "### Plot results\n",
    "We will use scatter plot to present results."
   ]
  },
  {
   "cell_type": "code",
   "execution_count": null,
   "id": "5d5455fb",
   "metadata": {},
   "outputs": [],
   "source": [
    "plt.scatter(bing_dataset['baseline'], bing_dataset['similarity'])\n",
    "plt.scatter(bing_dataset['baseline'], google_dataset['similarity'])\n",
    "plt.legend(['bing', 'google'])\n",
    "plt.xlabel(\"similarity\")\n",
    "plt.ylabel(\"baseline\")\n",
    "plt.show()"
   ]
  },
  {
   "cell_type": "code",
   "execution_count": null,
   "id": "f20f51e5",
   "metadata": {},
   "outputs": [],
   "source": [
    "def print_summary(bing_data, google_data, query):\n",
    "    print('Similarity for query: ', query)\n",
    "    print(\"\\tMean similarity for Google results (top 5): \", google_data['similarity'][:5].mean())\n",
    "    print(\"\\tMean similarity for Bing results (top 5): \", bing_data['similarity'][:5].mean())\n",
    "    print()\n",
    "    print(\"\\tMean similarity for Google results: \", google_data['similarity'].mean())\n",
    "    print(\"\\tMean similarity for Bing results: \", bing_data['similarity'].mean())"
   ]
  },
  {
   "cell_type": "code",
   "execution_count": null,
   "id": "082f525e",
   "metadata": {},
   "outputs": [],
   "source": [
    "print_summary(bing_dataset, google_dataset, 'happy white woman')"
   ]
  },
  {
   "cell_type": "markdown",
   "id": "69e2270e",
   "metadata": {},
   "source": [
    "## Check other queries"
   ]
  },
  {
   "cell_type": "code",
   "execution_count": null,
   "id": "b9b8fb1d",
   "metadata": {},
   "outputs": [],
   "source": [
    "a_dataset = df[df['query'] == 'happy+asian+woman'].copy()\n",
    "b_dataset = df[df['query'] == 'happy+black+woman'].copy()\n",
    "\n",
    "a_dataset['similarity'] = a_dataset['title'].apply(get_similarity, query='happy asian woman')\n",
    "b_dataset['similarity'] = b_dataset['title'].apply(get_similarity, query='happy black woman')\n",
    "\n",
    "a_google_dataset = a_dataset[a_dataset['engine']=='google'][:30]\n",
    "a_bing_dataset = a_dataset[a_dataset['engine']=='bing'][:30]\n",
    "\n",
    "b_google_dataset = b_dataset[b_dataset['engine']=='google'][:30]\n",
    "b_bing_dataset = b_dataset[b_dataset['engine']=='bing'][:30]"
   ]
  },
  {
   "cell_type": "code",
   "execution_count": null,
   "id": "023bbf6f",
   "metadata": {},
   "outputs": [],
   "source": [
    "print_summary(a_bing_dataset, a_google_dataset, 'happy asian woman')"
   ]
  },
  {
   "cell_type": "code",
   "execution_count": null,
   "id": "2ac64d80",
   "metadata": {},
   "outputs": [],
   "source": [
    "print_summary(b_bing_dataset, b_google_dataset, 'happy black woman')"
   ]
  },
  {
   "cell_type": "markdown",
   "id": "c6d997b2",
   "metadata": {},
   "source": [
    "## TODO:\n",
    "* Check similarity between two texts with the same words but in different order. \n",
    "* Check how the similarity between two different documents changes with increasing text length. You can try to compare cooking recipes with some sport news."
   ]
  },
  {
   "cell_type": "code",
   "execution_count": null,
   "id": "4b831d9e",
   "metadata": {},
   "outputs": [],
   "source": []
  }
 ],
 "metadata": {
  "kernelspec": {
   "display_name": "Python 3 (ipykernel)",
   "language": "python",
   "name": "python3"
  },
  "language_info": {
   "codemirror_mode": {
    "name": "ipython",
    "version": 3
   },
   "file_extension": ".py",
   "mimetype": "text/x-python",
   "name": "python",
   "nbconvert_exporter": "python",
   "pygments_lexer": "ipython3",
   "version": "3.8.9"
  }
 },
 "nbformat": 4,
 "nbformat_minor": 5
}
